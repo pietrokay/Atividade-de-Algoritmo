{
 "cells": [
  {
   "cell_type": "code",
   "execution_count": null,
   "metadata": {},
   "outputs": [],
   "source": [
    "\n",
    "def cinco_patinhos():\n",
    "    patinhos = 5 \n",
    "    while patinhos > 0:\n",
    "        print(f\"{patinhos} patinhos foram passear\")\n",
    "        print(\"além das montanhas\")\n",
    "        print(\"para brincar\")\n",
    "        print(\"a mamãe gritou: quá, quá, quá, quá\")\n",
    "        patinhos -= 1\n",
    "        print(f\"mas só {patinhos} patinhos voltaram de lá\\n\")\n",
    "        print(\"a mamãe patinha foi procurar\")\n",
    "        print(\"além das montanhas\")\n",
    "        print(\"na beira do mar\")\n",
    "        print(\"a mamãe gritou: quá, quá, quá, quá\")\n",
    "        print(\"e os cinco patinhos voltaram de lá\\n\")"
   ]
  },
  {
   "cell_type": "markdown",
   "metadata": {},
   "source": [
    "viva mariana"
   ]
  },
  {
   "cell_type": "code",
   "execution_count": null,
   "metadata": {},
   "outputs": [],
   "source": [
    "def viva_mariana():\n",
    "    for i in range(1, 13):\n",
    "        print(f\"a mariana conta {i}\")\n",
    "        if i % 3 == 0:\n",
    "            print(\"e assim vai\\n\")\n",
    "            for _ in range(4):\n",
    "                print(\"ana, viva mariana\")"
   ]
  },
  {
   "cell_type": "markdown",
   "metadata": {},
   "source": [
    "um elefante incomoda"
   ]
  },
  {
   "cell_type": "code",
   "execution_count": null,
   "metadata": {},
   "outputs": [],
   "source": [
    "def um_elefante_incomoda():\n",
    "    for i in range(1,11):\n",
    "       if i == 1:\n",
    "        print(\"1 elefante incomoda muita gente\")\n",
    "        else:\n",
    "            print(f\"{i} elefante incomoda muito mais\")\n",
    "            print(f\"{i+1} elefante incomoda muito mais\")\n",
    "            print(\"10 elefantes incomodam, incomodam muito mais\")"
   ]
  }
 ],
 "metadata": {
  "language_info": {
   "name": "python"
  }
 },
 "nbformat": 4,
 "nbformat_minor": 2
}
