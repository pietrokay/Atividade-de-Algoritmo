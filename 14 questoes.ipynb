{
 "cells": [
  {
   "cell_type": "markdown",
   "metadata": {},
   "source": [
    "ATIVIDADE 1"
   ]
  },
  {
   "cell_type": "code",
   "execution_count": 13,
   "metadata": {},
   "outputs": [
    {
     "name": "stdout",
     "output_type": "stream",
     "text": [
      "sua letra é uma vogal\n"
     ]
    }
   ],
   "source": [
    "\n",
    "letra = (input('digite uma letra'))\n",
    "if letra == 'a':\n",
    "    print (\"sua letra é uma vogal\")\n",
    "elif letra == 'e':\n",
    "    print (\"sua letra é uma vogal\")\n",
    "elif letra == 'i': \n",
    "    print (\"sua letra é uma vogal\")\n",
    "elif letra == 'i':\n",
    "    print (\"sua letra é uma vogal\")\n",
    "elif letra == 'o':\n",
    "    print (\"sua letra é uma vogal\")\n",
    "elif letra == 'u':\n",
    "    print (\"sua letra é uma vogal\")\n",
    "else:\n",
    "    print (\"sua letra é uma consoante\")"
   ]
  },
  {
   "cell_type": "markdown",
   "metadata": {},
   "source": [
    "ATIVIDADE 2"
   ]
  },
  {
   "cell_type": "code",
   "execution_count": 20,
   "metadata": {},
   "outputs": [
    {
     "name": "stdout",
     "output_type": "stream",
     "text": [
      "compre o primeiro produto pois é o mais em conta.\n"
     ]
    }
   ],
   "source": [
    "produto1_preco = float( input('Digite o preço do produto1 em R$:'))\n",
    "produto2_preco = float( input('Digite o preço do produto2 em R$:'))\n",
    "produto3_preco = float( input('Digite o preço do produto3 em R$:'))\n",
    "\n",
    "if produto1_preco <= produto2_preco and produto3_preco:\n",
    "   print (\"compre o primeiro produto pois é o mais em conta.\")\n",
    "elif produto2_preco <= produto1_preco and produto3_preco:\n",
    "   print (\"compre o segundo produto pois é o mais em conta.\")\n",
    "elif produto3_preco <= produto2_preco and produto1_preco:\n",
    "   print (\"compre o terceiro produto pois é o mais em conta.\")"
   ]
  },
  {
   "cell_type": "markdown",
   "metadata": {},
   "source": [
    "ATIVIDADE 3"
   ]
  },
  {
   "cell_type": "code",
   "execution_count": 21,
   "metadata": {},
   "outputs": [
    {
     "name": "stdout",
     "output_type": "stream",
     "text": [
      "ordem decrescente: 25.0 10.0 8.0\n"
     ]
    }
   ],
   "source": [
    "numero1 = float( input('Digite o numero1'))\n",
    "numero2 = float( input('Digite o numero2'))\n",
    "numero3 = float( input('Digite o numero1'))\n",
    "\n",
    "if numero1 > numero2 > numero3:\n",
    "   print (\"ordem decrescente:\",numero1,numero2,numero3)\n",
    "elif numero1 > numero3 > numero2:\n",
    "   print (\"ordem decrescente:\",numero1,numero3,numero2)\n",
    "elif numero2 > numero1 > numero3:\n",
    "   print (\"ordem decrescente:\",numero2,numero1,numero3)\n",
    "elif numero2 > numero3 > numero1:\n",
    "    print (\"ordem decrescente:\",numero2,numero3,numero1)\n",
    "elif numero3 > numero2 > numero1: \n",
    "     print (\"ordem decrescente:\",numero3,numero2,numero1)\n",
    "elif numero3 > numero1 > numero2: \n",
    "    print (\"ordem decrescente:\",numero3,numero1,numero2)"
   ]
  },
  {
   "cell_type": "markdown",
   "metadata": {},
   "source": [
    "ATIVIDADE 4"
   ]
  },
  {
   "cell_type": "code",
   "execution_count": 22,
   "metadata": {},
   "outputs": [
    {
     "name": "stdout",
     "output_type": "stream",
     "text": [
      "boa tarde!\n"
     ]
    }
   ],
   "source": [
    "turno = (input('selecione o turno que voce estuda, \"m\"para matutino, \"v\" para vespertino e \"n\" para noturno'))\n",
    "if turno == 'm':\n",
    "    print ('bom dia!')\n",
    "elif turno == 'v':\n",
    "    print (\"boa tarde!\")\n",
    "elif turno == 'n':\n",
    "    print ('boa noite!')\n",
    "else:\n",
    "    print ('valor inválido')"
   ]
  },
  {
   "cell_type": "markdown",
   "metadata": {},
   "source": [
    "ATIVIDADE 5"
   ]
  },
  {
   "cell_type": "code",
   "execution_count": 23,
   "metadata": {},
   "outputs": [
    {
     "name": "stdout",
     "output_type": "stream",
     "text": [
      "corresponde a: 6- sexta\n"
     ]
    }
   ],
   "source": [
    "numeros_dias = (input(\"digite um numero para correspender ao dia da semana!\"))\n",
    "if numeros_dias == '1':\n",
    "    print ('corresponde a: 1- domingo')\n",
    "elif numeros_dias == '2':\n",
    "    print ('corresponde a: 2- segunda')\n",
    "elif numeros_dias == '3':\n",
    "    print ('corresponde a: 3- terça')\n",
    "elif numeros_dias == '4': \n",
    "    print ('corresponde a: 4- quarta')\n",
    "elif numeros_dias == '5':  \n",
    "       print ('corresponde a: 5- quinta')\n",
    "elif numeros_dias == '6':  \n",
    "      print ('corresponde a: 6- sexta')     \n",
    "elif numeros_dias == '7':  \n",
    "     print ('corresponde a: 7- sabado')\n",
    "else:\n",
    "     print (\"valor inválido!\")"
   ]
  },
  {
   "cell_type": "markdown",
   "metadata": {},
   "source": [
    "ATIVIDADE 6"
   ]
  },
  {
   "cell_type": "code",
   "execution_count": null,
   "metadata": {},
   "outputs": [
    {
     "name": "stdout",
     "output_type": "stream",
     "text": [
      "a primeira nota foi: 6 a segunda nota foi: 9 a média é: 7.5 o conceito da média é: D o status final do aluno é de: APROVADO\n"
     ]
    }
   ],
   "source": [
    "nota1 = 6\n",
    "nota2 = 9\n",
    "media = (nota1 + nota2) / 2\n",
    "status = 'APROVADO' or 'REPROVADO'\n",
    "if media >=9:\n",
    "    conceito = 'A'\n",
    "elif media >=7.5:\n",
    "    conceito = 'B'\n",
    "elif media >=6:\n",
    "    conceito = 'C' \n",
    "if media >=4:\n",
    "    conceito = 'D'     \n",
    "else:\n",
    "    conceito = 'E'\n",
    "\n",
    "    if conceito in ['A','B','C']:\n",
    "        status = 'APROVADO'\n",
    "    elif conceito in ['D','E']:\n",
    "        status = 'REPROVADO'\n",
    "\n",
    "print ('a primeira nota foi:', nota1,'a segunda nota foi:', nota2, 'a média é:', media, 'o conceito da média é:',conceito,\"o status final do aluno é de:\" ,status)"
   ]
  },
  {
   "cell_type": "code",
   "execution_count": null,
   "metadata": {},
   "outputs": [
    {
     "name": "stdout",
     "output_type": "stream",
     "text": [
      "o ano 2024 é bissexto\n"
     ]
    }
   ],
   "source": [
    "ano = int(input('digite um ano:'))\n",
    "anobissexto= (ano % 4 == 0 and ano % 100 !=0 ) or (ano %400 == 0)\n",
    "if anobissexto == True:\n",
    "    print ('o ano',ano,'é bissexto')\n",
    "else:\n",
    "    print ('o ano',ano, 'não é bissexto')"
   ]
  },
  {
   "cell_type": "markdown",
   "metadata": {},
   "source": [
    "ATIVIDADE 7 "
   ]
  },
  {
   "cell_type": "code",
   "execution_count": null,
   "metadata": {},
   "outputs": [],
   "source": [
    "numero1 = float(input(\"digite o primeiro número: \"))\n",
    "numero2 = float(input(\"digite o segundo número: \"))\n",
    "operacao = input(\"digite a operação que deseja realizar (+, -, *, /): \")\n",
    "if operacao == '+': \n",
    "    resultado = numero1 + numero2\n",
    "    elif operacao == '-':\n",
    "        resultado = numero1 - numero2\n",
    "        elif operacao == '*':\n",
    "            resultado = numero1 * numero2\n",
    "            else operacao == '/':\n",
    "                resultado = numero1 / numero2\n",
    "                print(\"o resultado da operação é:\", resultado)\n",
    "                if resultado % 2 == 0:\n",
    "                    par_impar = \"par\"\n",
    "else:\n",
    "    par_impar = \"ímpar\"\n",
    "    if resultado > 0:\n",
    "        positivo_negativo = \"positivo\"\n",
    "        else:\n",
    "            positivo_negativo = \"negativo\"\n",
    "            if resultado == int(resultado) :\n",
    "                int_dec = \"inteiro\"\n",
    "                else:\n",
    "                    int_dec = \"decimal\"\n",
    "                    print(\"este número é\", par_impar + \",\", positivo_negativo + \",\" int_dec + \".\")"
   ]
  },
  {
   "cell_type": "markdown",
   "metadata": {},
   "source": [
    "ATIVIDADE 8"
   ]
  },
  {
   "cell_type": "code",
   "execution_count": null,
   "metadata": {},
   "outputs": [],
   "source": [
    "idade = int(input(\"digite a sua idade: \"))\n",
    "if idade >= 0 and idade <= 150:\n",
    "    print(\"sua idade é:\", idade)\n",
    "    else:\n",
    "        print(\"idade inválida, tente novamente\")"
   ]
  },
  {
   "cell_type": "markdown",
   "metadata": {},
   "source": [
    "ATIVIDADE 9 (n consegui fazer bem)"
   ]
  },
  {
   "cell_type": "code",
   "execution_count": null,
   "metadata": {},
   "outputs": [],
   "source": [
    "soma = 0\n",
    "quantd_num = 5\n",
    "for i in range(quantd_num):\n",
    "    numero = float(input(\"digite um número: \"))\n",
    "    soma = soma + numero\n",
    "\n",
    "    media = soma / quantd_num\n",
    "    print(\"a soma dos números é:\", soma)\n",
    "    print(\"a média dos números é:\", media)"
   ]
  },
  {
   "cell_type": "markdown",
   "metadata": {},
   "source": [
    "ATIVIDADE 10"
   ]
  },
  {
   "cell_type": "code",
   "execution_count": null,
   "metadata": {},
   "outputs": [],
   "source": [
    "numero = int(input(\"digite um número inteiro: \"))\n",
    "if numero > 1:\n",
    "    for i in range(2, numero):\n",
    "        if numero % i == 0:\n",
    "            print(numero, \"não é um número primo.\")\n",
    "            break\n",
    "            else:\n",
    "                print(numero, \"é um número primo.\")\n",
    "                else:\n",
    "                    print(numero, \"não é um número primo.\")"
   ]
  },
  {
   "cell_type": "markdown",
   "metadata": {},
   "source": [
    "ATIVIDADE 11"
   ]
  },
  {
   "cell_type": "code",
   "execution_count": null,
   "metadata": {},
   "outputs": [],
   "source": [
    "temperatura = float(input(\"digite a temperatura: \"))\n",
    "menor_temp = temperatura\n",
    "maior_temp = temperatura\n",
    "soma_temp = temperatura\n",
    "for i in range(4):\n",
    "    temperatura = float(input(\"digite a temperatura: \"))\n",
    "    if temperatura < menor_temp:\n",
    "        menor_temp = temperatura\n",
    "        if temperatura > maior_temp:\n",
    "            maior_temp = temperatura\n",
    "            soma_temp += temperatura\n",
    "            media_temp = soma_temp / 5 \n",
    "            print(\"a menor temperatura é: \", menor_temp)\n",
    "            print(\"a maior temperatura é:\", maior_temp)\n",
    "            print(\"a média das temperaturas é:\", media_temp)"
   ]
  },
  {
   "cell_type": "markdown",
   "metadata": {},
   "source": [
    "ATIVIDADE 12"
   ]
  },
  {
   "cell_type": "code",
   "execution_count": null,
   "metadata": {},
   "outputs": [],
   "source": [
    "saldo_med = float(input(\"digite o saldo médio do cliente: \"))\n",
    "if saldo_med <= 200:\n",
    "    credito = 0\n",
    "    elif saldo_med <= 400\n",
    "    credito = saldo_med * 0.2\n",
    "    elif saldo_med <= 600:\n",
    "        credito = saldo_med * 0.3\n",
    "        else:\n",
    "            credito = saldo_med * 0.4\n",
    "            print(\"o saldo médio do cliente é de:\", saldo_med)\n",
    "            print(\"o valor do crédito é de:\", credito)"
   ]
  },
  {
   "cell_type": "markdown",
   "metadata": {},
   "source": [
    "ATIVIDADE 13"
   ]
  },
  {
   "cell_type": "code",
   "execution_count": null,
   "metadata": {},
   "outputs": [],
   "source": [
    "nome = input(\"digite seu nome: \")\n",
    "idade = int(input(\"digite sua idade: \"))\n",
    "ano_atual = 2024\n",
    "ano_aposent = ano_atual + (55 - idade)\n",
    "print(nome + \", você poderá se aposentar em\", ano_aposent)"
   ]
  },
  {
   "cell_type": "markdown",
   "metadata": {},
   "source": [
    "ATIVIDADE 14"
   ]
  },
  {
   "cell_type": "code",
   "execution_count": null,
   "metadata": {},
   "outputs": [],
   "source": [
    "valor_hr = float(input(\"digite a sua hora de trabalho: \"))\n",
    "hrs_trabalhadas = float(input(\"digite a quantidade de horas trabalhadas: \"))\n",
    "salario_bruto = valor_hr * hrs_trabalhadas\n",
    "if salario_bruto <= 2112.00:\n",
    "    desc_ir = 0\n",
    "    elis salario_bruto <= 2826.65:\n",
    "    desc_ir = salario_bruto * 0.075\n",
    "    elif salario_bruto <= 3751.05:\n",
    "        desc_ir = salario_bruto * 0.15\n",
    "        elif salario_bruto <= 4664.68:\n",
    "            desc_ir = salario_bruto * 0.225\n",
    "            else:\n",
    "                desc_ir = salario_bruto *0.275\n",
    "                desc_sind = salario_bruto * 0.03\n",
    "                fgts = salario_bruto * 0.11\n",
    "                salario_liq = salario_bruto - desc_ir - desc_sind\n",
    "                print(\"salário bruto:\", salario_bruto)\n",
    "                print(\"desconto do imposto de renda:\", desc_ir)\n",
    "                print(\"desconto do sindicato:\", desc_sind)\n",
    "                print(\"FGTS:\", fgts)\n",
    "                print(\"salário liquido:\", salario_liq)"
   ]
  }
 ],
 "metadata": {
  "kernelspec": {
   "display_name": "Python 3",
   "language": "python",
   "name": "python3"
  },
  "language_info": {
   "codemirror_mode": {
    "name": "ipython",
    "version": 3
   },
   "file_extension": ".py",
   "mimetype": "text/x-python",
   "name": "python",
   "nbconvert_exporter": "python",
   "pygments_lexer": "ipython3",
   "version": "3.11.4"
  }
 },
 "nbformat": 4,
 "nbformat_minor": 2
}
