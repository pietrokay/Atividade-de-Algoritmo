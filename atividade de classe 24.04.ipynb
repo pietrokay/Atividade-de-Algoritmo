{
 "cells": [
  {
   "cell_type": "code",
   "execution_count": 14,
   "metadata": {},
   "outputs": [
    {
     "name": "stdout",
     "output_type": "stream",
     "text": [
      "[76, 92.3, 'oi', True, 4, 76, 'pitomba', 76]\n"
     ]
    }
   ],
   "source": [
    "#letraA\n",
    "minhaLista = [76, 92.3, \"oi\", True, 4,76]\n",
    "minhaLista2 = [\"pitomba\", 76]\n",
    "minhaLista += minhaLista2\n",
    "print(minhaLista)\n"
   ]
  },
  {
   "cell_type": "code",
   "execution_count": 29,
   "metadata": {},
   "outputs": [
    {
     "name": "stdout",
     "output_type": "stream",
     "text": [
      "[76, 92.3, 'oi', 'Cibele', 4, 76, 4, 76]\n"
     ]
    }
   ],
   "source": [
    "#letraB\n",
    "minhaLista = [76, 92.3, \"oi\", True, 4,76]\n",
    "minhaLista[3] = \"Cibele\"\n",
    "novaLista = [4,76]\n",
    "print(minhaLista + novaLista)"
   ]
  },
  {
   "cell_type": "code",
   "execution_count": 40,
   "metadata": {},
   "outputs": [
    {
     "name": "stdout",
     "output_type": "stream",
     "text": [
      "[99, 76, 92.3, 'oi', True, 4, 76, 99]\n"
     ]
    }
   ],
   "source": [
    "#letraC\n",
    "minhaLista = [76, 92.3, \"oi\", True, 4,76]\n",
    "minhaLista[:0] = [99]\n",
    "print(minhaLista + novaLista)\n"
   ]
  },
  {
   "cell_type": "code",
   "execution_count": 46,
   "metadata": {},
   "outputs": [
    {
     "name": "stdout",
     "output_type": "stream",
     "text": [
      "O indice procurado é 2\n"
     ]
    }
   ],
   "source": [
    "#letraD\n",
    "minhaLista = [76, 92.3, \"oi\", True, 4,76]\n",
    "if(minhaLista[0] == \"oi\"):\n",
    "    print('O indice procurado é 0' )\n",
    "elif(minhaLista[1] == \"oi\"):\n",
    "    print('O indice procurado é 1')\n",
    "elif(minhaLista[2] == \"oi\"):\n",
    "    print('O indice procurado é 2')\n",
    "elif(minhaLista[3] == \"oi\"):\n",
    "    print('O indice procura é 3')  \n",
    "elif(minhaLista[4] == \"oi\"):\n",
    "    print('O indice procurado é 4')\n",
    "elif(minhaLista[5] == \"oi\"):\n",
    "    print('O indice procurado é 5')"
   ]
  },
  {
   "cell_type": "code",
   "execution_count": 49,
   "metadata": {},
   "outputs": [
    {
     "name": "stdout",
     "output_type": "stream",
     "text": [
      "[76, 92.3, 'oi', [4, 76]]\n"
     ]
    }
   ],
   "source": [
    "minhaLista = [76, 92.3, \"oi\", True, 4,76]\n",
    "novaLista3 = minhaLista[:3] + [minhaLista[4:]]\n",
    "print(novaLista3)"
   ]
  },
  {
   "cell_type": "code",
   "execution_count": 50,
   "metadata": {},
   "outputs": [
    {
     "data": {
      "text/plain": [
       "(10, 20, 30)"
      ]
     },
     "execution_count": 50,
     "metadata": {},
     "output_type": "execute_result"
    }
   ],
   "source": [
    "#tuplas sem parenteses\n",
    "tupla_nova = 10, 20, 30\n",
    "tupla_nova \n"
   ]
  },
  {
   "cell_type": "code",
   "execution_count": 51,
   "metadata": {},
   "outputs": [
    {
     "data": {
      "text/plain": [
       "10"
      ]
     },
     "execution_count": 51,
     "metadata": {},
     "output_type": "execute_result"
    }
   ],
   "source": [
    "#tuplas com apenas um elemento\n",
    "tupla_elemento = 10\n",
    "tupla_elemento"
   ]
  },
  {
   "cell_type": "code",
   "execution_count": 52,
   "metadata": {},
   "outputs": [
    {
     "data": {
      "text/plain": [
       "()"
      ]
     },
     "execution_count": 52,
     "metadata": {},
     "output_type": "execute_result"
    }
   ],
   "source": [
    "#tupla vazia\n",
    "tupla_vazia = ()\n",
    "tupla_vazia"
   ]
  },
  {
   "cell_type": "code",
   "execution_count": 53,
   "metadata": {},
   "outputs": [
    {
     "data": {
      "text/plain": [
       "('T', 'e', 's', 't', 'e')"
      ]
     },
     "execution_count": 53,
     "metadata": {},
     "output_type": "execute_result"
    }
   ],
   "source": [
    "#nova tupla\n",
    "nova_tupla = tuple('Teste')\n",
    "nova_tupla"
   ]
  },
  {
   "cell_type": "code",
   "execution_count": 56,
   "metadata": {},
   "outputs": [
    {
     "name": "stdout",
     "output_type": "stream",
     "text": [
      "0\n",
      "1\n"
     ]
    }
   ],
   "source": [
    "tupla_nomes = ('Marlene', 'Zezinho', 'Marlene', 'Cibele', 'Zuely')\n",
    "tupla_nomes.count('Marlene')\n",
    "print(tupla_nomes.count('Suely'))\n",
    "print(tupla_nomes.count('Zezinho'))"
   ]
  },
  {
   "cell_type": "code",
   "execution_count": 57,
   "metadata": {},
   "outputs": [
    {
     "data": {
      "text/plain": [
       "3"
      ]
     },
     "execution_count": 57,
     "metadata": {},
     "output_type": "execute_result"
    }
   ],
   "source": [
    "tupla_num = 1, 2, 2, 3, 4, 4, 4, 5\n",
    "tupla_num.count(4)"
   ]
  }
 ],
 "metadata": {
  "kernelspec": {
   "display_name": "Python 3",
   "language": "python",
   "name": "python3"
  },
  "language_info": {
   "codemirror_mode": {
    "name": "ipython",
    "version": 3
   },
   "file_extension": ".py",
   "mimetype": "text/x-python",
   "name": "python",
   "nbconvert_exporter": "python",
   "pygments_lexer": "ipython3",
   "version": "3.11.9"
  }
 },
 "nbformat": 4,
 "nbformat_minor": 2
}
