{
 "cells": [
  {
   "cell_type": "code",
   "execution_count": 9,
   "metadata": {},
   "outputs": [],
   "source": [
    "ano = int(input('Qual é o ano do veículo? '))\n",
    "preco = float(input('Qual é o preço do veículo? '))\n"
   ]
  },
  {
   "cell_type": "code",
   "execution_count": 11,
   "metadata": {},
   "outputs": [
    {
     "name": "stdout",
     "output_type": "stream",
     "text": [
      "29.654999999999998\n"
     ]
    }
   ],
   "source": [
    "if(ano >= 1990):\n",
    "    print(1.5/100 * preco)\n",
    "else: print(1/100 * preco)\n"
   ]
  },
  {
   "cell_type": "code",
   "execution_count": 81,
   "metadata": {},
   "outputs": [],
   "source": [
    "cargo = str(input('Qual é o seu cargo? '))\n",
    "salario = float(input('Qual é o seu salário? '))\n"
   ]
  },
  {
   "cell_type": "code",
   "execution_count": 85,
   "metadata": {},
   "outputs": [
    {
     "name": "stdout",
     "output_type": "stream",
     "text": [
      "O seu salário antigo era de 12990.0, o seu aumento foi de 5196.0 e o seu novo salário é 18186.0\n"
     ]
    }
   ],
   "source": [
    "if(cargo == 'gerente'):\n",
    "    aumento = (10/100) * salario\n",
    "    salarionovo = salario + aumento\n",
    "    print(f'O seu salário antigo era {salario}, seu aumento foi de {aumento} e o seu novo salário é {salarionovo}')\n",
    "elif(cargo == 'engenheiro'):\n",
    "    aumento = (20/100) * salario\n",
    "    salarionovo = salario + aumento\n",
    "    print(f'O seu salário antigo era de {salario}, seu aumento foi de {aumento} e o seu novo salário é {salarionovo}')\n",
    "elif(cargo == 'tecnico'):\n",
    "    aumento = (30/100) * salario\n",
    "    salarionovo = salario + aumento\n",
    "    print(f'O seu salário antigo era de {salario}, seu aumento foi de {aumento} e o seu novo salário é {salariono}')\n",
    "else: \n",
    "    aumento = (40/100) * salario\n",
    "    salarionovo = salario + aumento \n",
    "    print(f'O seu salário antigo era de {salario}, o seu aumento foi de {aumento} e o seu novo salário é {salarionovo}')\n",
    "\n",
    "  "
   ]
  }
 ],
 "metadata": {
  "kernelspec": {
   "display_name": "Python 3",
   "language": "python",
   "name": "python3"
  },
  "language_info": {
   "codemirror_mode": {
    "name": "ipython",
    "version": 3
   },
   "file_extension": ".py",
   "mimetype": "text/x-python",
   "name": "python",
   "nbconvert_exporter": "python",
   "pygments_lexer": "ipython3",
   "version": "3.11.9"
  }
 },
 "nbformat": 4,
 "nbformat_minor": 2
}
